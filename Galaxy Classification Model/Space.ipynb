{
  "nbformat": 4,
  "nbformat_minor": 0,
  "metadata": {
    "colab": {
      "name": "Space.ipynb",
      "provenance": []
    },
    "kernelspec": {
      "name": "python3",
      "display_name": "Python 3"
    },
    "language_info": {
      "name": "python"
    }
  },
  "cells": [
    {
      "cell_type": "markdown",
      "metadata": {
        "id": "Hfu8Pz2f6ErH"
      },
      "source": [
        "#**Galaxy Classification Model**\n",
        "\n",
        "Astronomy in this contemporary era has evolved massively in parallel with advances in computing over the years. Sophisticated computational techniques such as machine learning models are much more efficient now due to the dramatically increased efficiency in computer performance and huge data available to us today. \n",
        "\n",
        "Long Centuries ago, the galaxy classification was done by hand with a massive group of experienced people, who used to evaluate the results by using \n",
        "cross-validation algorithm. With this inspiration here I will introduce you to a Galaxy Classification Model with Machine Learning."
      ]
    },
    {
      "cell_type": "markdown",
      "metadata": {
        "id": "Yml7TSp16VPd"
      },
      "source": [
        "#**Exploring The Data**\n",
        "\n",
        "Now, let’s start this task of creating a Galaxy Classification Model by importing all the necessary packages:\n",
        "\n",
        "Now, as you can see, I have imported all the packages, now let’s start reading the data and exploring it to have a quick look at what we are going to work with:"
      ]
    },
    {
      "cell_type": "code",
      "metadata": {
        "colab": {
          "base_uri": "https://localhost:8080/",
          "height": 204
        },
        "id": "4LHqPw1x3bvc",
        "outputId": "76000ab9-18b6-425a-cfae-cb6345dafb69"
      },
      "source": [
        "import numpy as np\n",
        "import pandas as pd\n",
        "import matplotlib.pyplot as plt\n",
        "import seaborn as sns\n",
        "import cufflinks as cf\n",
        "cf.go_offline()\n",
        "%matplotlib inline\n",
        "\n",
        "zoo = pd.read_csv('/content/GalaxyZoo1_DR_table2.csv')\n",
        "zoo.head()"
      ],
      "execution_count": 2,
      "outputs": [
        {
          "output_type": "display_data",
          "data": {
            "text/html": [
              "        <script type=\"text/javascript\">\n",
              "        window.PlotlyConfig = {MathJaxConfig: 'local'};\n",
              "        if (window.MathJax) {MathJax.Hub.Config({SVG: {font: \"STIX-Web\"}});}\n",
              "        if (typeof require !== 'undefined') {\n",
              "        require.undef(\"plotly\");\n",
              "        requirejs.config({\n",
              "            paths: {\n",
              "                'plotly': ['https://cdn.plot.ly/plotly-latest.min']\n",
              "            }\n",
              "        });\n",
              "        require(['plotly'], function(Plotly) {\n",
              "            window._Plotly = Plotly;\n",
              "        });\n",
              "        }\n",
              "        </script>\n",
              "        "
            ]
          },
          "metadata": {}
        },
        {
          "output_type": "execute_result",
          "data": {
            "text/html": [
              "<div>\n",
              "<style scoped>\n",
              "    .dataframe tbody tr th:only-of-type {\n",
              "        vertical-align: middle;\n",
              "    }\n",
              "\n",
              "    .dataframe tbody tr th {\n",
              "        vertical-align: top;\n",
              "    }\n",
              "\n",
              "    .dataframe thead th {\n",
              "        text-align: right;\n",
              "    }\n",
              "</style>\n",
              "<table border=\"1\" class=\"dataframe\">\n",
              "  <thead>\n",
              "    <tr style=\"text-align: right;\">\n",
              "      <th></th>\n",
              "      <th>OBJID</th>\n",
              "      <th>RA</th>\n",
              "      <th>DEC</th>\n",
              "      <th>NVOTE</th>\n",
              "      <th>P_EL</th>\n",
              "      <th>P_CW</th>\n",
              "      <th>P_ACW</th>\n",
              "      <th>P_EDGE</th>\n",
              "      <th>P_DK</th>\n",
              "      <th>P_MG</th>\n",
              "      <th>P_CS</th>\n",
              "      <th>P_EL_DEBIASED</th>\n",
              "      <th>P_CS_DEBIASED</th>\n",
              "      <th>SPIRAL</th>\n",
              "      <th>ELLIPTICAL</th>\n",
              "      <th>UNCERTAIN</th>\n",
              "    </tr>\n",
              "  </thead>\n",
              "  <tbody>\n",
              "    <tr>\n",
              "      <th>0</th>\n",
              "      <td>587727178986356823</td>\n",
              "      <td>00:00:00.41</td>\n",
              "      <td>-10:22:25.7</td>\n",
              "      <td>59</td>\n",
              "      <td>0.610</td>\n",
              "      <td>0.034</td>\n",
              "      <td>0.000</td>\n",
              "      <td>0.153</td>\n",
              "      <td>0.153</td>\n",
              "      <td>0.051</td>\n",
              "      <td>0.186</td>\n",
              "      <td>0.610</td>\n",
              "      <td>0.186</td>\n",
              "      <td>0</td>\n",
              "      <td>0</td>\n",
              "      <td>1</td>\n",
              "    </tr>\n",
              "    <tr>\n",
              "      <th>1</th>\n",
              "      <td>587727227300741210</td>\n",
              "      <td>00:00:00.74</td>\n",
              "      <td>-09:13:20.2</td>\n",
              "      <td>18</td>\n",
              "      <td>0.611</td>\n",
              "      <td>0.000</td>\n",
              "      <td>0.167</td>\n",
              "      <td>0.222</td>\n",
              "      <td>0.000</td>\n",
              "      <td>0.000</td>\n",
              "      <td>0.389</td>\n",
              "      <td>0.203</td>\n",
              "      <td>0.797</td>\n",
              "      <td>1</td>\n",
              "      <td>0</td>\n",
              "      <td>0</td>\n",
              "    </tr>\n",
              "    <tr>\n",
              "      <th>2</th>\n",
              "      <td>587727225153257596</td>\n",
              "      <td>00:00:01.03</td>\n",
              "      <td>-10:56:48.0</td>\n",
              "      <td>68</td>\n",
              "      <td>0.735</td>\n",
              "      <td>0.029</td>\n",
              "      <td>0.000</td>\n",
              "      <td>0.147</td>\n",
              "      <td>0.074</td>\n",
              "      <td>0.015</td>\n",
              "      <td>0.176</td>\n",
              "      <td>0.432</td>\n",
              "      <td>0.428</td>\n",
              "      <td>0</td>\n",
              "      <td>0</td>\n",
              "      <td>1</td>\n",
              "    </tr>\n",
              "    <tr>\n",
              "      <th>3</th>\n",
              "      <td>587730774962536596</td>\n",
              "      <td>00:00:01.38</td>\n",
              "      <td>+15:30:35.3</td>\n",
              "      <td>52</td>\n",
              "      <td>0.885</td>\n",
              "      <td>0.019</td>\n",
              "      <td>0.000</td>\n",
              "      <td>0.058</td>\n",
              "      <td>0.019</td>\n",
              "      <td>0.019</td>\n",
              "      <td>0.077</td>\n",
              "      <td>0.885</td>\n",
              "      <td>0.077</td>\n",
              "      <td>0</td>\n",
              "      <td>1</td>\n",
              "      <td>0</td>\n",
              "    </tr>\n",
              "    <tr>\n",
              "      <th>4</th>\n",
              "      <td>587731186203885750</td>\n",
              "      <td>00:00:01.55</td>\n",
              "      <td>-00:05:33.3</td>\n",
              "      <td>59</td>\n",
              "      <td>0.712</td>\n",
              "      <td>0.000</td>\n",
              "      <td>0.000</td>\n",
              "      <td>0.220</td>\n",
              "      <td>0.068</td>\n",
              "      <td>0.000</td>\n",
              "      <td>0.220</td>\n",
              "      <td>0.640</td>\n",
              "      <td>0.290</td>\n",
              "      <td>0</td>\n",
              "      <td>0</td>\n",
              "      <td>1</td>\n",
              "    </tr>\n",
              "  </tbody>\n",
              "</table>\n",
              "</div>"
            ],
            "text/plain": [
              "                OBJID           RA          DEC  ...  SPIRAL  ELLIPTICAL  UNCERTAIN\n",
              "0  587727178986356823  00:00:00.41  -10:22:25.7  ...       0           0          1\n",
              "1  587727227300741210  00:00:00.74  -09:13:20.2  ...       1           0          0\n",
              "2  587727225153257596  00:00:01.03  -10:56:48.0  ...       0           0          1\n",
              "3  587730774962536596  00:00:01.38  +15:30:35.3  ...       0           1          0\n",
              "4  587731186203885750  00:00:01.55  -00:05:33.3  ...       0           0          1\n",
              "\n",
              "[5 rows x 16 columns]"
            ]
          },
          "metadata": {},
          "execution_count": 2
        }
      ]
    },
    {
      "cell_type": "markdown",
      "metadata": {
        "id": "iZRhJnSI8MUF"
      },
      "source": [
        "The first column is a unique identifier which cannot be a feature for our model, and the second and third columns are the absolute positions of galaxies which do not correlate with our classes/targets, so we can remove them all:"
      ]
    },
    {
      "cell_type": "code",
      "metadata": {
        "id": "0xBsO6gU8S93"
      },
      "source": [
        "data = zoo.drop(['OBJID','RA','DEC'],axis=1)"
      ],
      "execution_count": 4,
      "outputs": []
    },
    {
      "cell_type": "markdown",
      "metadata": {
        "id": "FKMZxSw98fHx"
      },
      "source": [
        "As this is a Galaxy classification model, so we have to check the class imbalance, in a dataset where we perform classification task even though its class binary imbalance may have a major effect in the phase training, and ultimately on precision. To plot the value_counts for three-class columns, we can do it like the code below:"
      ]
    },
    {
      "cell_type": "code",
      "metadata": {
        "colab": {
          "base_uri": "https://localhost:8080/",
          "height": 458
        },
        "id": "0tNxDs__8Ith",
        "outputId": "7d5b229a-82ab-4892-f2df-906bba1c71c9"
      },
      "source": [
        "plt.figure(figsize=(10,7))\n",
        "plt.title('Count Plot For Galaxy Types:')\n",
        "countplt = data[['SPIRAL','ELLIPTICAL','UNCERTAIN']]\n",
        "sns.countplot(x=\"variable\",hue='value', data=pd.melt(countplt))\n",
        "plt.xlabel('Classes')\n",
        "plt.show()"
      ],
      "execution_count": 5,
      "outputs": [
        {
          "output_type": "display_data",
          "data": {
            "image/png": "[encoded data removed]",
            "text/plain": [
              "<Figure size 720x504 with 1 Axes>"
            ]
          },
          "metadata": {
            "needs_background": "light"
          }
        }
      ]
    },
    {
      "cell_type": "markdown",
      "metadata": {
        "id": "PsUFSLlZUp7z"
      },
      "source": [
        "#**Splitting The Data**\n",
        "\n",
        "For any machine learning model that learns from data, this is a conventional method of dividing the original data into training sets and test sets, where the allocation percentages are 80% d training set and 20% test set. and the data set at least should have 1000 data points to avoid overfitting and to simply increase the training period of any model. So now let’s split the data into training and test sets:"
      ]
    },
    {
      "cell_type": "code",
      "metadata": {
        "id": "mjHFYApRUlY2"
      },
      "source": [
        "X = data.drop(['SPIRAL','ELLIPTICAL','UNCERTAIN'],axis = 1).values\n",
        "Y = data[['SPIRAL','ELLIPTICAL','UNCERTAIN']].values\n",
        "from sklearn.model_selection import train_test_split\n",
        "X_train,X_test,Y_train,Y_test = train_test_split(X,Y,test_size = 0.2, random_state = 101)"
      ],
      "execution_count": 6,
      "outputs": []
    },
    {
      "cell_type": "markdown",
      "metadata": {
        "id": "kfyWNN5HVwyE"
      },
      "source": [
        "# **Normalising** **the** **data**"
      ]
    },
    {
      "cell_type": "code",
      "metadata": {
        "id": "TAv5GsyCVwTD"
      },
      "source": [
        "from sklearn.preprocessing import MinMaxScaler\n",
        "scaler = MinMaxScaler()\n",
        "X_train = scaler.fit_transform(X_train)\n",
        "X_test = scaler.fit_transform(X_test)"
      ],
      "execution_count": 7,
      "outputs": []
    },
    {
      "cell_type": "markdown",
      "metadata": {
        "id": "17VZNtWVW2U-"
      },
      "source": [
        "#**Building Neural Networks for Galaxy Classification Model**\n",
        "\n",
        "Sequential, in Keras, allows us to build the Multilayered Perceptron model from scratch. We can add each layer with a unit number as a parameter of the Dense function where each unit number implies that many densely connected neurons. Now let’s build neural networks using TensorFlow and Keras:"
      ]
    },
    {
      "cell_type": "code",
      "metadata": {
        "id": "TfVey7DgXExJ"
      },
      "source": [
        "from tensorflow.keras.models import Sequential\n",
        "from keras.layers import Dense\n",
        "import time\n",
        "\n",
        "model = Sequential()\n",
        "\n",
        "model.add(Dense(10, activation = 'relu'))\n",
        "model.add(Dense(5, activation = 'relu'))\n",
        "\n",
        "model.add(Dense(3, activation = 'softmax'))\n",
        "\n",
        "model.compile(optimizer='adam',loss='categorical_crossentropy',metrics=['accuracy'])\n",
        "start = time.perf_counter()"
      ],
      "execution_count": 11,
      "outputs": []
    },
    {
      "cell_type": "markdown",
      "metadata": {
        "id": "ICbTd0nGXD7m"
      },
      "source": [
        "Now let’s fit the data into our neural network. It will take some time to run as the data is itself very large and neural network models take time to run:\n",
        "\n"
      ]
    },
    {
      "cell_type": "code",
      "metadata": {
        "colab": {
          "base_uri": "https://localhost:8080/"
        },
        "id": "0mIOCTXlYibK",
        "outputId": "4a7677a1-69ca-4462-d215-85a6e9a8e6a2"
      },
      "source": [
        "model.fit(x = X_train, y= Y_train, epochs = 20)\n",
        "print('\\n TIME ELAPSED {}Seconds'.format(time.perf_counter() - start))"
      ],
      "execution_count": 12,
      "outputs": [
        {
          "output_type": "stream",
          "name": "stdout",
          "text": [
            "Epoch 1/20\n",
            "16699/16699 [==============================] - 30s 2ms/step - loss: 0.2860 - accuracy: 0.8755\n",
            "Epoch 2/20\n",
            "16699/16699 [==============================] - 30s 2ms/step - loss: 0.2515 - accuracy: 0.8911\n",
            "Epoch 3/20\n",
            "16699/16699 [==============================] - 30s 2ms/step - loss: 0.2480 - accuracy: 0.8941\n",
            "Epoch 4/20\n",
            "16699/16699 [==============================] - 32s 2ms/step - loss: 0.2451 - accuracy: 0.8957\n",
            "Epoch 5/20\n",
            "16699/16699 [==============================] - 31s 2ms/step - loss: 0.2427 - accuracy: 0.8969\n",
            "Epoch 6/20\n",
            "16699/16699 [==============================] - 34s 2ms/step - loss: 0.2415 - accuracy: 0.8969\n",
            "Epoch 7/20\n",
            "16699/16699 [==============================] - 37s 2ms/step - loss: 0.2396 - accuracy: 0.8975\n",
            "Epoch 8/20\n",
            "16699/16699 [==============================] - 38s 2ms/step - loss: 0.2368 - accuracy: 0.8985\n",
            "Epoch 9/20\n",
            "16699/16699 [==============================] - 37s 2ms/step - loss: 0.2330 - accuracy: 0.8990\n",
            "Epoch 10/20\n",
            "16699/16699 [==============================] - 35s 2ms/step - loss: 0.2269 - accuracy: 0.8999\n",
            "Epoch 11/20\n",
            "16699/16699 [==============================] - 38s 2ms/step - loss: 0.2226 - accuracy: 0.9001\n",
            "Epoch 12/20\n",
            "16699/16699 [==============================] - 40s 2ms/step - loss: 0.2207 - accuracy: 0.9005\n",
            "Epoch 13/20\n",
            "16699/16699 [==============================] - 26s 2ms/step - loss: 0.2197 - accuracy: 0.9006\n",
            "Epoch 14/20\n",
            "16699/16699 [==============================] - 26s 2ms/step - loss: 0.2194 - accuracy: 0.8998\n",
            "Epoch 15/20\n",
            "16699/16699 [==============================] - 26s 2ms/step - loss: 0.2191 - accuracy: 0.9003\n",
            "Epoch 16/20\n",
            "16699/16699 [==============================] - 26s 2ms/step - loss: 0.2188 - accuracy: 0.9001\n",
            "Epoch 17/20\n",
            "16699/16699 [==============================] - 26s 2ms/step - loss: 0.2186 - accuracy: 0.9000\n",
            "Epoch 18/20\n",
            "16699/16699 [==============================] - 26s 2ms/step - loss: 0.2185 - accuracy: 0.9002\n",
            "Epoch 19/20\n",
            "16699/16699 [==============================] - 26s 2ms/step - loss: 0.2184 - accuracy: 0.9000\n",
            "Epoch 20/20\n",
            "16699/16699 [==============================] - 26s 2ms/step - loss: 0.2183 - accuracy: 0.9002\n",
            "\n",
            " TIME ELAPSED 628.5089387099997Seconds\n"
          ]
        }
      ]
    },
    {
      "cell_type": "markdown",
      "metadata": {
        "id": "aoficHniZA8v"
      },
      "source": [
        "Now let’s plot the accuracy to have a look at the accuracy of the neural networks at each epoch:"
      ]
    },
    {
      "cell_type": "code",
      "metadata": {
        "colab": {
          "base_uri": "https://localhost:8080/",
          "height": 475
        },
        "id": "9-8hRpZSZEsS",
        "outputId": "b2f9087c-edbc-45f7-e1d3-0230e331233d"
      },
      "source": [
        "mod_history = pd.DataFrame(model.history.history)\n",
        "plt.figure(figsize = (10,7))\n",
        "plt.title('Model History')\n",
        "plt.ylabel('Accuracy')\n",
        "plt.xlabel('Epoch')\n",
        "plt.plot(mod_history['accuracy'], color = 'red', lw = 2)"
      ],
      "execution_count": 13,
      "outputs": [
        {
          "output_type": "execute_result",
          "data": {
            "text/plain": [
              "[<matplotlib.lines.Line2D at 0x7f45f268a2d0>]"
            ]
          },
          "metadata": {},
          "execution_count": 13
        },
        {
          "output_type": "display_data",
          "data": {
            "image/png": "[encoded data removed]",
            "text/plain": [
              "<Figure size 720x504 with 1 Axes>"
            ]
          },
          "metadata": {
            "needs_background": "light"
          }
        }
      ]
    }
  ]
}